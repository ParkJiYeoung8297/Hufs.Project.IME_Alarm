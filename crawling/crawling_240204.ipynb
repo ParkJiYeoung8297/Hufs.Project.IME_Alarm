{
 "cells": [
  {
   "cell_type": "code",
   "execution_count": null,
   "metadata": {},
   "outputs": [],
   "source": [
    "from urllib.request import urlopen\n",
    "from bs4 import BeautifulSoup\n",
    "import re\n",
    "\n",
    "url = \"https://ime.hufs.ac.kr/ime/2807/subview.do?enc=Zm5jdDF8QEB8JTJGYmJzJTJGaW1lJTJGNTA5JTJGYXJ0Y2xMaXN0LmRvJTNG\"\n",
    "\n",
    "html = urlopen(url)\n",
    "bsObject = BeautifulSoup(html, \"html.parser\")\n",
    "\n",
    "target_tr_tags = bsObject.find_all('tr', class_='')\n",
    "\n",
    "for tr_tag in target_tr_tags:\n",
    "    \n",
    "    td_num_tag = tr_tag.find('td', class_='td-num')\n",
    "    td_num = td_num_tag.text.strip() if td_num_tag else None\n",
    "    \n",
    "    \n",
    "    strong_tag = tr_tag.find('strong') \n",
    "    title = strong_tag.text.strip() if strong_tag else None\n",
    "        \n",
    "    date_tag = tr_tag.find('td', class_='td-date')\n",
    "    date = date_tag.text.strip() if date_tag else None\n",
    "\n",
    "    td_num = re.sub('<[^>]+>', '', td_num) if td_num else None\n",
    "    title = re.sub('<[^>]+>', '', title) if title else None\n",
    "    date = re.sub('<[^>]+>', '', date) if date else None\n",
    "    \n",
    "    print(f\"번호: {td_num}, 제목: {title}, 날짜: {date}\")"
   ]
  }
 ],
 "metadata": {
  "language_info": {
   "name": "python"
  }
 },
 "nbformat": 4,
 "nbformat_minor": 2
}
